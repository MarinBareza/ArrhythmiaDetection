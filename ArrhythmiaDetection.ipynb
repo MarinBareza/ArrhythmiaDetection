{
 "cells": [
  {
   "metadata": {},
   "cell_type": "markdown",
   "source": "# Arrhythmia detection",
   "id": "3365bf17be75ef74"
  },
  {
   "metadata": {},
   "cell_type": "code",
   "outputs": [],
   "execution_count": null,
   "source": [
    "import logging\n",
    "import os\n",
    "import pickle\n",
    "\n",
    "import neurokit2 as nk\n",
    "import wfdb"
   ],
   "id": "b7afaaf53a28a903"
  },
  {
   "metadata": {},
   "cell_type": "markdown",
   "source": "## Load the database if it exists",
   "id": "1fddbf32bd1e87a6"
  },
  {
   "metadata": {},
   "cell_type": "code",
   "outputs": [],
   "execution_count": null,
   "source": [
    "dbdir = 'mit-bih-arrhythmia-database-1.0.0'\n",
    "if not os.path.isdir(dbdir):\n",
    "    logging.error('Please replace dbdir with the db directory')\n",
    "    raise FileNotFoundError(dbdir)"
   ],
   "id": "2efd504894f075ae"
  },
  {
   "cell_type": "markdown",
   "source": "## Detect P, Q, R, S, T waves",
   "metadata": {
    "collapsed": false
   },
   "id": "c1957a5bfb003f50"
  },
  {
   "metadata": {},
   "cell_type": "markdown",
   "source": "![alt text](ecg.png \"Title\")",
   "id": "647ba6ba4fefc89"
  },
  {
   "cell_type": "code",
   "source": [
    "# Read from the docs\n",
    "sampling_rate = 360\n",
    "record = {'Sample_Symbol': ([]), 'ECG_Signal': ([]), 'R_Peaks': ({}), 'waves_peaks': ({})}\n",
    "records = []\n",
    "\n",
    "# Load records file by file\n",
    "for _ in range(100, 220):\n",
    "    try:\n",
    "        bih_record = wfdb.rdrecord('{}/{}'.format(dbdir, _))\n",
    "        annotation = wfdb.rdann('{}/{}'.format(dbdir, _), 'atr')\n",
    "    except FileNotFoundError:\n",
    "        continue\n",
    "\n",
    "    # Create a list of tuples of beat symbols and the sample at which it is annotated \n",
    "    record['Sample_Symbol'] = (\n",
    "    [(i / sampling_rate, s) for i, s in zip(annotation.sample[:], annotation.symbol[:])])\n",
    "    # Read the signal from the bih_record\n",
    "    ecg_signal = bih_record.p_signal[:, 0]\n",
    "    record['ECG_Signal'] = ecg_signal\n",
    "    # Find all r peaks in a record\n",
    "    _, r_peaks = nk.ecg_peaks(ecg_signal, sampling_rate=sampling_rate)\n",
    "    record['R_Peaks'] = r_peaks\n",
    "    # Find P, Q, S, T, P-onset and T-offset\n",
    "    _, waves_peaks = nk.ecg_delineate(ecg_signal, r_peaks, sampling_rate=sampling_rate,\n",
    "                                      method=\"peak\")\n",
    "    record['waves_peaks'] = waves_peaks\n",
    "    records.append(record)\n",
    "\n",
    "# Save the data to a file (search of waves takes approximately 17min)\n",
    "# with open('records.pkl', 'wb') as file:\n",
    "#     pickle.dump(records, file)"
   ],
   "metadata": {
    "collapsed": false,
    "ExecuteTime": {
     "end_time": "2024-05-31T23:59:25.384565Z",
     "start_time": "2024-05-31T23:41:45.134901Z"
    }
   },
   "id": "360bb85ce24a99b2",
   "outputs": [],
   "execution_count": 10
  },
  {
   "metadata": {},
   "cell_type": "markdown",
   "source": [
    "## Map annotations to R waves\n",
    "(\\+)      Rhythm change\n",
    "\n",
    "(N)       Normal beat\n",
    "\n",
    "(A)\t\tAtrial premature beat\n",
    "\n",
    "(/)\t\tPaced beat\n",
    "\n",
    "(f)\t\tFusion of paced and normal beat\n",
    "\n",
    "(~)\t\tChange in signal quality\n",
    "\n",
    "(V)\t\tPremature ventricular contraction\n",
    "\n",
    "(x)\t\tNon-conducted P-wave (blocked APC)\n",
    "\n",
    "(L)\t\tLeft bundle branch block beat\n",
    "\n",
    "(R)\t\tRight bundle branch block beat\n",
    "\n",
    "(F)\t\tFusion of ventricular and normal beat"
   ],
   "id": "aec1f29528d68f4e"
  },
  {
   "metadata": {
    "ExecuteTime": {
     "end_time": "2024-06-01T09:57:13.251203Z",
     "start_time": "2024-06-01T09:57:13.239862Z"
    }
   },
   "cell_type": "code",
   "source": [
    "# Load records from the file\n",
    "with open('records.pkl', 'rb') as file:\n",
    "    records = pickle.load(file)\n",
    "    \n"
   ],
   "id": "66f38eab7d87ed4c",
   "outputs": [],
   "execution_count": 3
  },
  {
   "metadata": {},
   "cell_type": "markdown",
   "source": "## Distribution of classes",
   "id": "22b1a0f9d06dcfb6"
  },
  {
   "metadata": {
    "ExecuteTime": {
     "end_time": "2024-05-31T23:59:25.390704Z",
     "start_time": "2024-05-31T23:59:25.386576Z"
    }
   },
   "cell_type": "code",
   "source": [
    "# labels, values = zip(*Counter([s[0] for s in slices]).items())\n",
    "# plt.bar(labels, values)\n",
    "# for i, v in enumerate(values):\n",
    "#     plt.text(i, v + 0.1, str(v), ha='center', va='bottom')\n",
    "# plt.title('Distribution of Beat and Non-beat annotations')\n",
    "# plt.xlabel('Annotation')\n",
    "# plt.ylabel('Frequency')\n",
    "# plt.show()"
   ],
   "id": "d0a76424821f4185",
   "outputs": [],
   "execution_count": 11
  },
  {
   "metadata": {},
   "cell_type": "markdown",
   "source": [
    "## Features for classification:\n",
    "* age\n",
    "* sex\n",
    "* PR interval\n",
    "* RT interval"
   ],
   "id": "e5e9c282d43ee3da"
  },
  {
   "metadata": {},
   "cell_type": "markdown",
   "source": [
    "## SVM model training\n",
    "### SVM Gaussian radial basis function"
   ],
   "id": "86d22abdca7a1a1a"
  }
 ],
 "metadata": {
  "kernelspec": {
   "display_name": "Python 3 (ipykernel)",
   "language": "python",
   "name": "python3"
  },
  "language_info": {
   "codemirror_mode": {
    "name": "ipython",
    "version": 3
   },
   "file_extension": ".py",
   "mimetype": "text/x-python",
   "name": "python",
   "nbconvert_exporter": "python",
   "pygments_lexer": "ipython3",
   "version": "3.9.13"
  }
 },
 "nbformat": 4,
 "nbformat_minor": 5
}
