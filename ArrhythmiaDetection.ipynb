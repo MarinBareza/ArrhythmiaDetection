{
 "cells": [
  {
   "metadata": {},
   "cell_type": "markdown",
   "source": "# Arrhythmia detection",
   "id": "3365bf17be75ef74"
  },
  {
   "metadata": {},
   "cell_type": "markdown",
   "source": [
    "## ECG signal \n",
    "![alt text](ecg.png \"Title\")"
   ],
   "id": "6be028542d106f95"
  },
  {
   "metadata": {},
   "cell_type": "markdown",
   "source": "## Packages",
   "id": "8b9578865b66e0b4"
  },
  {
   "metadata": {
    "ExecuteTime": {
     "end_time": "2024-06-04T14:58:07.348796Z",
     "start_time": "2024-06-04T14:48:11.730318Z"
    }
   },
   "cell_type": "code",
   "source": [
    "import logging\n",
    "import os\n",
    "import pickle\n",
    "\n",
    "import neurokit2 as nk\n",
    "import numpy as np\n",
    "import wfdb\n",
    "\n",
    "from util import map_peak_annotations"
   ],
   "id": "b7afaaf53a28a903",
   "outputs": [],
   "execution_count": 1
  },
  {
   "metadata": {},
   "cell_type": "markdown",
   "source": "## Load the database",
   "id": "4e9028d31bd07dda"
  },
  {
   "metadata": {},
   "cell_type": "code",
   "outputs": [],
   "execution_count": null,
   "source": [
    "dbdir = 'mit-bih-arrhythmia-database-1.0.0'\n",
    "if not os.path.isdir(dbdir):\n",
    "    logging.error('Please replace dbdir with the db directory')\n",
    "    raise FileNotFoundError(dbdir)"
   ],
   "id": "5833316272a99412"
  },
  {
   "metadata": {},
   "cell_type": "markdown",
   "source": "## Constants",
   "id": "f2cdbe00cdfe1c7b"
  },
  {
   "metadata": {},
   "cell_type": "code",
   "outputs": [],
   "execution_count": null,
   "source": [
    "# From the BIH database docs\n",
    "beat_annotations = ['N', 'L', 'R', 'B', 'A', 'a', 'J', 'S', 'V', 'r', 'F', 'e', 'j', 'n', 'E', '/', 'f', 'Q', '?']\n",
    "sampling_rate = 360"
   ],
   "id": "58d704dfc49c7a20"
  },
  {
   "metadata": {},
   "cell_type": "markdown",
   "source": "## Load records, detect peaks, onsets, offsets and map annotations to R peaks",
   "id": "5b7cc3766dc9b921"
  },
  {
   "metadata": {},
   "cell_type": "code",
   "outputs": [],
   "execution_count": null,
   "source": [
    "records = []\n",
    "for _ in range(100, 220):\n",
    "    try:\n",
    "        bih_record = wfdb.rdrecord('{}/{}'.format(dbdir, _))\n",
    "        annotation = wfdb.rdann('{}/{}'.format(dbdir, _), 'atr')\n",
    "    except FileNotFoundError:\n",
    "        continue\n",
    "\n",
    "    # Create a list of tuples of beat symbols and the sample at which it is annotated \n",
    "    cleaned_annotation = np.unique(annotation.sample[np.isin(annotation.symbol, beat_annotations)])\n",
    "    dtype = [('sample', 'i4'), ('symbol', 'U1')]\n",
    "    annotations = np.array([(int(i), s) for i, s in zip(cleaned_annotation, annotation.symbol)], dtype=dtype)\n",
    "    # Read the signal from the bih_record\n",
    "    ecg_signal = bih_record.p_signal[:, 0]\n",
    "    # Find all r peaks in a record\n",
    "    _, r_peaks = nk.ecg_peaks(ecg_signal, sampling_rate=sampling_rate)\n",
    "    # Map beat annotations to R-peaks\n",
    "    annotated_r_peaks = map_peak_annotations(r_peaks['ECG_R_Peaks'], annotations)\n",
    "    # Find other peaks, onsets and offsets\n",
    "    _, waves_peaks = nk.ecg_delineate(ecg_signal, r_peaks, sampling_rate, method=\"dwt\", show_type='all')\n",
    "    records.append({'ecg_signal': ecg_signal, 'annotated_r_peaks': annotated_r_peaks, 'waves_peaks': waves_peaks})"
   ],
   "id": "c0ff1cc32e9a4805"
  },
  {
   "metadata": {},
   "cell_type": "markdown",
   "source": "## Save records into a file",
   "id": "26446b387b3cbf53"
  },
  {
   "metadata": {},
   "cell_type": "code",
   "outputs": [],
   "execution_count": null,
   "source": [
    "with open('records.pkl', 'wb') as file:\n",
    "    pickle.dump(records, file)"
   ],
   "id": "6bfc1747c40d77cf"
  },
  {
   "metadata": {},
   "cell_type": "markdown",
   "source": "## Load records from a file",
   "id": "ef18b70ffb26a80c"
  },
  {
   "metadata": {
    "ExecuteTime": {
     "end_time": "2024-06-04T15:04:43.458751Z",
     "start_time": "2024-06-04T14:59:56.295366Z"
    }
   },
   "cell_type": "code",
   "source": [
    "with open('records.pkl', 'rb') as file:\n",
    "    records = pickle.load(file)"
   ],
   "id": "d54a97382bf9279a",
   "outputs": [
    {
     "ename": "KeyboardInterrupt",
     "evalue": "",
     "output_type": "error",
     "traceback": [
      "\u001B[1;31m---------------------------------------------------------------------------\u001B[0m",
      "\u001B[1;31mKeyboardInterrupt\u001B[0m                         Traceback (most recent call last)",
      "Cell \u001B[1;32mIn[2], line 3\u001B[0m\n\u001B[0;32m      1\u001B[0m \u001B[38;5;28;01mwith\u001B[39;00m \u001B[38;5;28mopen\u001B[39m(\u001B[38;5;124m'\u001B[39m\u001B[38;5;124mrecords.pkl\u001B[39m\u001B[38;5;124m'\u001B[39m, \u001B[38;5;124m'\u001B[39m\u001B[38;5;124mrb\u001B[39m\u001B[38;5;124m'\u001B[39m) \u001B[38;5;28;01mas\u001B[39;00m file:\n\u001B[0;32m      2\u001B[0m     records \u001B[38;5;241m=\u001B[39m pickle\u001B[38;5;241m.\u001B[39mload(file)\n\u001B[1;32m----> 3\u001B[0m \u001B[38;5;28mprint\u001B[39m(records)\n",
      "File \u001B[1;32m_pydevd_bundle\\\\pydevd_cython_win32_311_64.pyx:1187\u001B[0m, in \u001B[0;36m_pydevd_bundle.pydevd_cython_win32_311_64.SafeCallWrapper.__call__\u001B[1;34m()\u001B[0m\n",
      "File \u001B[1;32m_pydevd_bundle\\\\pydevd_cython_win32_311_64.pyx:627\u001B[0m, in \u001B[0;36m_pydevd_bundle.pydevd_cython_win32_311_64.PyDBFrame.trace_dispatch\u001B[1;34m()\u001B[0m\n",
      "File \u001B[1;32m_pydevd_bundle\\\\pydevd_cython_win32_311_64.pyx:937\u001B[0m, in \u001B[0;36m_pydevd_bundle.pydevd_cython_win32_311_64.PyDBFrame.trace_dispatch\u001B[1;34m()\u001B[0m\n",
      "File \u001B[1;32m_pydevd_bundle\\\\pydevd_cython_win32_311_64.pyx:928\u001B[0m, in \u001B[0;36m_pydevd_bundle.pydevd_cython_win32_311_64.PyDBFrame.trace_dispatch\u001B[1;34m()\u001B[0m\n",
      "File \u001B[1;32m_pydevd_bundle\\\\pydevd_cython_win32_311_64.pyx:585\u001B[0m, in \u001B[0;36m_pydevd_bundle.pydevd_cython_win32_311_64.PyDBFrame.do_wait_suspend\u001B[1;34m()\u001B[0m\n",
      "File \u001B[1;32m~\\AppData\\Local\\Programs\\DataSpell\\plugins\\python-ce\\helpers\\pydev\\pydevd.py:1185\u001B[0m, in \u001B[0;36mPyDB.do_wait_suspend\u001B[1;34m(self, thread, frame, event, arg, send_suspend_message, is_unhandled_exception)\u001B[0m\n\u001B[0;32m   1182\u001B[0m         from_this_thread\u001B[38;5;241m.\u001B[39mappend(frame_id)\n\u001B[0;32m   1184\u001B[0m \u001B[38;5;28;01mwith\u001B[39;00m \u001B[38;5;28mself\u001B[39m\u001B[38;5;241m.\u001B[39m_threads_suspended_single_notification\u001B[38;5;241m.\u001B[39mnotify_thread_suspended(thread_id, stop_reason):\n\u001B[1;32m-> 1185\u001B[0m     \u001B[38;5;28;43mself\u001B[39;49m\u001B[38;5;241;43m.\u001B[39;49m\u001B[43m_do_wait_suspend\u001B[49m\u001B[43m(\u001B[49m\u001B[43mthread\u001B[49m\u001B[43m,\u001B[49m\u001B[43m \u001B[49m\u001B[43mframe\u001B[49m\u001B[43m,\u001B[49m\u001B[43m \u001B[49m\u001B[43mevent\u001B[49m\u001B[43m,\u001B[49m\u001B[43m \u001B[49m\u001B[43marg\u001B[49m\u001B[43m,\u001B[49m\u001B[43m \u001B[49m\u001B[43msuspend_type\u001B[49m\u001B[43m,\u001B[49m\u001B[43m \u001B[49m\u001B[43mfrom_this_thread\u001B[49m\u001B[43m)\u001B[49m\n",
      "File \u001B[1;32m~\\AppData\\Local\\Programs\\DataSpell\\plugins\\python-ce\\helpers\\pydev\\pydevd.py:1200\u001B[0m, in \u001B[0;36mPyDB._do_wait_suspend\u001B[1;34m(self, thread, frame, event, arg, suspend_type, from_this_thread)\u001B[0m\n\u001B[0;32m   1197\u001B[0m             \u001B[38;5;28mself\u001B[39m\u001B[38;5;241m.\u001B[39m_call_mpl_hook()\n\u001B[0;32m   1199\u001B[0m         \u001B[38;5;28mself\u001B[39m\u001B[38;5;241m.\u001B[39mprocess_internal_commands()\n\u001B[1;32m-> 1200\u001B[0m         \u001B[43mtime\u001B[49m\u001B[38;5;241;43m.\u001B[39;49m\u001B[43msleep\u001B[49m\u001B[43m(\u001B[49m\u001B[38;5;241;43m0.01\u001B[39;49m\u001B[43m)\u001B[49m\n\u001B[0;32m   1202\u001B[0m \u001B[38;5;28mself\u001B[39m\u001B[38;5;241m.\u001B[39mcancel_async_evaluation(get_current_thread_id(thread), \u001B[38;5;28mstr\u001B[39m(\u001B[38;5;28mid\u001B[39m(frame)))\n\u001B[0;32m   1204\u001B[0m \u001B[38;5;66;03m# process any stepping instructions\u001B[39;00m\n",
      "\u001B[1;31mKeyboardInterrupt\u001B[0m: "
     ]
    }
   ],
   "execution_count": 2
  },
  {
   "metadata": {},
   "cell_type": "markdown",
   "source": "## Distribution of classes",
   "id": "22b1a0f9d06dcfb6"
  },
  {
   "metadata": {
    "ExecuteTime": {
     "end_time": "2024-06-03T20:28:29.419918Z",
     "start_time": "2024-06-03T20:28:29.415799Z"
    }
   },
   "cell_type": "code",
   "source": [
    "# TODO Adjust to new way of data preprocessing\n",
    "# labels, values = zip(*Counter([s[0] for s in slices]).items())\n",
    "# plt.bar(labels, values)\n",
    "# for i, v in enumerate(values):\n",
    "#     plt.text(i, v + 0.1, str(v), ha='center', va='bottom')\n",
    "# plt.title('Distribution of Beat and Non-beat annotations')\n",
    "# plt.xlabel('Annotation')\n",
    "# plt.ylabel('Frequency')\n",
    "# plt.show()"
   ],
   "id": "d0a76424821f4185",
   "outputs": [],
   "execution_count": 5
  },
  {
   "metadata": {},
   "cell_type": "markdown",
   "source": [
    "## Map annotations to R waves\n",
    "N\t--\tNormal beat (displayed as \"·\" by the PhysioBank ATM, LightWAVE, pschart, and psfd)\n",
    "\n",
    "L\t--\tLeft bundle branch block beat\n",
    "\n",
    "R\t--\tRight bundle branch block beat\n",
    "\n",
    "B\t--\tBundle branch block beat (unspecified)\n",
    "\n",
    "A\t--\tAtrial premature beat\n",
    "\n",
    "a\t--\tAberrated atrial premature beat\n",
    "\n",
    "J\t--\tNodal (junctional) premature beat\n",
    "\n",
    "S\t--\tSupraventricular premature or ectopic beat (atrial or nodal)\n",
    "\n",
    "V\t--\tPremature ventricular contraction\n",
    "\n",
    "r\t--\tR-on-T premature ventricular contraction\n",
    "\n",
    "F\t--\tFusion of ventricular and normal beat\n",
    "\n",
    "e\t--\tAtrial escape beat\n",
    "\n",
    "j\t--\tNodal (junctional) escape beat\n",
    "\n",
    "n\t--\tSupraventricular escape beat (atrial or nodal)\n",
    "\n",
    "E\t--\tVentricular escape beat\n",
    "\n",
    "/\t--\tPaced beat\n",
    "\n",
    "f\t--\tFusion of paced and normal beat\n",
    "\n",
    "Q\t--\tUnclassifiable beat\n",
    "\n",
    "?\t--\tBeat not classified during learning\n"
   ],
   "id": "4f8035bf2dab585f"
  },
  {
   "metadata": {},
   "cell_type": "markdown",
   "source": [
    "## Features for classification:\n",
    "* age\n",
    "* sex\n",
    "* PR interval\n",
    "* RT interval"
   ],
   "id": "e5e9c282d43ee3da"
  },
  {
   "metadata": {},
   "cell_type": "markdown",
   "source": "## SVM model training - SVM Gaussian radial basis function",
   "id": "86d22abdca7a1a1a"
  }
 ],
 "metadata": {
  "kernelspec": {
   "display_name": "Python 3 (ipykernel)",
   "language": "python",
   "name": "python3"
  },
  "language_info": {
   "codemirror_mode": {
    "name": "ipython",
    "version": 3
   },
   "file_extension": ".py",
   "mimetype": "text/x-python",
   "name": "python",
   "nbconvert_exporter": "python",
   "pygments_lexer": "ipython3",
   "version": "3.9.13"
  }
 },
 "nbformat": 4,
 "nbformat_minor": 5
}
