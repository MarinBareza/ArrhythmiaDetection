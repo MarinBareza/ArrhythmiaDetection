{
 "cells": [
  {
   "metadata": {},
   "cell_type": "markdown",
   "source": "# Arrhythmia detection",
   "id": "3365bf17be75ef74"
  },
  {
   "metadata": {},
   "cell_type": "markdown",
   "source": [
    "## ECG signal \n",
    "<img src=\"ecg.png\" alt=\"ECG\" width=\"700\" height=\"452\">"
   ],
   "id": "6be028542d106f95"
  },
  {
   "metadata": {},
   "cell_type": "markdown",
   "source": "## Packages",
   "id": "8b9578865b66e0b4"
  },
  {
   "metadata": {
    "ExecuteTime": {
     "end_time": "2024-06-04T15:27:40.519729Z",
     "start_time": "2024-06-04T15:27:38.408111Z"
    }
   },
   "cell_type": "code",
   "source": [
    "import logging\n",
    "import os\n",
    "import pickle\n",
    "\n",
    "import neurokit2 as nk\n",
    "import numpy as np\n",
    "import pandas as pd\n",
    "import wfdb\n",
    "\n",
    "from util import map_peak_annotations"
   ],
   "id": "b7afaaf53a28a903",
   "outputs": [],
   "execution_count": 1
  },
  {
   "metadata": {},
   "cell_type": "markdown",
   "source": "## Load the database",
   "id": "4e9028d31bd07dda"
  },
  {
   "metadata": {
    "ExecuteTime": {
     "end_time": "2024-06-04T15:27:40.525550Z",
     "start_time": "2024-06-04T15:27:40.521741Z"
    }
   },
   "cell_type": "code",
   "source": [
    "# dbdir = 'mit-bih-arrhythmia-database-1.0.0'\n",
    "# if not os.path.isdir(dbdir):\n",
    "#     logging.error('Please replace dbdir with the db directory')\n",
    "#     raise FileNotFoundError(dbdir)"
   ],
   "id": "5833316272a99412",
   "outputs": [],
   "execution_count": 2
  },
  {
   "metadata": {},
   "cell_type": "markdown",
   "source": "## Constants",
   "id": "f2cdbe00cdfe1c7b"
  },
  {
   "metadata": {
    "ExecuteTime": {
     "end_time": "2024-06-04T15:27:40.536125Z",
     "start_time": "2024-06-04T15:27:40.526563Z"
    }
   },
   "cell_type": "code",
   "source": [
    "# From the BIH database docs\n",
    "beat_annotations = ['N', 'L', 'R', 'B', 'A', 'a', 'J', 'S', 'V', 'r', 'F', 'e', 'j', 'n', 'E', '/', 'f', 'Q', '?']\n",
    "sampling_rate = 360"
   ],
   "id": "58d704dfc49c7a20",
   "outputs": [],
   "execution_count": 3
  },
  {
   "metadata": {},
   "cell_type": "markdown",
   "source": "## Load records, detect peaks, onsets, offsets and map annotations to R peaks",
   "id": "5b7cc3766dc9b921"
  },
  {
   "metadata": {
    "ExecuteTime": {
     "end_time": "2024-06-04T15:27:40.542363Z",
     "start_time": "2024-06-04T15:27:40.538338Z"
    }
   },
   "cell_type": "code",
   "source": [
    "# records = []\n",
    "# for _ in range(100, 220):\n",
    "#     try:\n",
    "#         bih_record = wfdb.rdrecord('{}/{}'.format(dbdir, _))\n",
    "#         annotation = wfdb.rdann('{}/{}'.format(dbdir, _), 'atr')\n",
    "#     except FileNotFoundError:\n",
    "#         continue\n",
    "# \n",
    "#     # Create a list of tuples of beat symbols and the sample at which it is annotated \n",
    "#     cleaned_annotation = np.unique(annotation.sample[np.isin(annotation.symbol, beat_annotations)])\n",
    "#     dtype = [('sample', 'i4'), ('symbol', 'U1')]\n",
    "#     annotations = np.array([(int(i), s) for i, s in zip(cleaned_annotation, annotation.symbol)], dtype=dtype)\n",
    "#     # Read the signal from the bih_record\n",
    "#     ecg_signal = bih_record.p_signal[:, 0]\n",
    "#     # Find all r peaks in a record\n",
    "#     _, r_peaks = nk.ecg_peaks(ecg_signal, sampling_rate=sampling_rate)\n",
    "#     # Map beat annotations to R-peaks\n",
    "#     annotated_r_peaks = map_peak_annotations(r_peaks['ECG_R_Peaks'], annotations)\n",
    "#     # Find other peaks, onsets and offsets\n",
    "#     _, waves_peaks = nk.ecg_delineate(ecg_signal, r_peaks, sampling_rate, method=\"dwt\", show_type='all')\n",
    "#     records.append({'ecg_signal': ecg_signal, 'annotated_r_peaks': annotated_r_peaks, 'waves_peaks': waves_peaks})"
   ],
   "id": "c0ff1cc32e9a4805",
   "outputs": [],
   "execution_count": 4
  },
  {
   "metadata": {},
   "cell_type": "markdown",
   "source": "## Save records into a file",
   "id": "26446b387b3cbf53"
  },
  {
   "metadata": {
    "ExecuteTime": {
     "end_time": "2024-06-04T15:27:40.547234Z",
     "start_time": "2024-06-04T15:27:40.543547Z"
    }
   },
   "cell_type": "code",
   "source": [
    "# with open('records.pkl', 'wb') as file:\n",
    "#     pickle.dump(records, file)"
   ],
   "id": "6bfc1747c40d77cf",
   "outputs": [],
   "execution_count": 5
  },
  {
   "metadata": {},
   "cell_type": "markdown",
   "source": "## Load records from a file",
   "id": "ef18b70ffb26a80c"
  },
  {
   "metadata": {
    "ExecuteTime": {
     "end_time": "2024-06-04T15:27:40.688262Z",
     "start_time": "2024-06-04T15:27:40.548244Z"
    }
   },
   "cell_type": "code",
   "source": [
    "with open('records.pkl', 'rb') as file:\n",
    "    records = pickle.load(file)"
   ],
   "id": "d54a97382bf9279a",
   "outputs": [],
   "execution_count": 6
  },
  {
   "metadata": {},
   "cell_type": "markdown",
   "source": [
    "## Feature extraction\n",
    "\n",
    "* P duration\n",
    "* PR interval\n",
    "* PR segment\n",
    "* Q duration\n",
    "* R duration\n",
    "* S duration\n",
    "* QRS duration\n",
    "* ST segment\n",
    "* ST interval\n",
    "* TP interval ?\n",
    "* RR interval ?\n",
    "* age\n",
    "* sex\n",
    "\n",
    "<img src=\"img.png\" alt=\"Features\" width=\"700\" height=\"420\">"
   ],
   "id": "45eb968c458a8c2f"
  },
  {
   "metadata": {},
   "cell_type": "markdown",
   "source": "",
   "id": "b022d082c9266a5f"
  },
  {
   "metadata": {
    "ExecuteTime": {
     "end_time": "2024-06-05T15:35:34.144887Z",
     "start_time": "2024-06-05T15:35:34.075346Z"
    }
   },
   "cell_type": "code",
   "source": [
    "labels = []\n",
    "pr_intervals = []\n",
    "for record in records:\n",
    "    # Extract labels\n",
    "    labels.extend(record['annotated_r_peaks'][:, 1])\n",
    "    # Extract PR intervals\n",
    "    pr_intervals.extend(record['waves_peaks'][:, 1])\n",
    "\n",
    "# df = pd.DataFrame(columns=['age', 'sex', 'pr_interval', 'rt_interval', 'st_segment', 'QRS_duration' 'annotations'], data={, annotations})"
   ],
   "id": "d8c67aa903619949",
   "outputs": [],
   "execution_count": 11
  },
  {
   "metadata": {},
   "cell_type": "markdown",
   "source": "## Distribution of classes",
   "id": "22b1a0f9d06dcfb6"
  },
  {
   "metadata": {
    "ExecuteTime": {
     "end_time": "2024-06-04T15:27:40.696837Z",
     "start_time": "2024-06-04T15:27:40.693303Z"
    }
   },
   "cell_type": "code",
   "source": [
    "# TODO Adjust to new way of data preprocessing\n",
    "# labels, values = zip(*Counter([s[0] for s in slices]).items())\n",
    "# plt.bar(labels, values)\n",
    "# for i, v in enumerate(values):\n",
    "#     plt.text(i, v + 0.1, str(v), ha='center', va='bottom')\n",
    "# plt.title('Distribution of Beat and Non-beat annotations')\n",
    "# plt.xlabel('Annotation')\n",
    "# plt.ylabel('Frequency')\n",
    "# plt.show()"
   ],
   "id": "d0a76424821f4185",
   "outputs": [],
   "execution_count": 7
  },
  {
   "metadata": {},
   "cell_type": "markdown",
   "source": [
    "## Map annotations to R waves\n",
    "N\t--\tNormal beat (displayed as \"·\" by the PhysioBank ATM, LightWAVE, pschart, and psfd)\n",
    "\n",
    "L\t--\tLeft bundle branch block beat\n",
    "\n",
    "R\t--\tRight bundle branch block beat\n",
    "\n",
    "B\t--\tBundle branch block beat (unspecified)\n",
    "\n",
    "A\t--\tAtrial premature beat\n",
    "\n",
    "a\t--\tAberrated atrial premature beat\n",
    "\n",
    "J\t--\tNodal (junctional) premature beat\n",
    "\n",
    "S\t--\tSupraventricular premature or ectopic beat (atrial or nodal)\n",
    "\n",
    "V\t--\tPremature ventricular contraction\n",
    "\n",
    "r\t--\tR-on-T premature ventricular contraction\n",
    "\n",
    "F\t--\tFusion of ventricular and normal beat\n",
    "\n",
    "e\t--\tAtrial escape beat\n",
    "\n",
    "j\t--\tNodal (junctional) escape beat\n",
    "\n",
    "n\t--\tSupraventricular escape beat (atrial or nodal)\n",
    "\n",
    "E\t--\tVentricular escape beat\n",
    "\n",
    "/\t--\tPaced beat\n",
    "\n",
    "f\t--\tFusion of paced and normal beat\n",
    "\n",
    "Q\t--\tUnclassifiable beat\n",
    "\n",
    "?\t--\tBeat not classified during learning\n"
   ],
   "id": "4f8035bf2dab585f"
  },
  {
   "metadata": {},
   "cell_type": "markdown",
   "source": "## SVM model training - SVM Gaussian radial basis function",
   "id": "86d22abdca7a1a1a"
  }
 ],
 "metadata": {
  "kernelspec": {
   "display_name": "Python 3 (ipykernel)",
   "language": "python",
   "name": "python3"
  },
  "language_info": {
   "codemirror_mode": {
    "name": "ipython",
    "version": 3
   },
   "file_extension": ".py",
   "mimetype": "text/x-python",
   "name": "python",
   "nbconvert_exporter": "python",
   "pygments_lexer": "ipython3",
   "version": "3.9.13"
  }
 },
 "nbformat": 4,
 "nbformat_minor": 5
}
